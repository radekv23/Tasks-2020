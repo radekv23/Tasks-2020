{
 "cells": [
  {
   "cell_type": "markdown",
   "metadata": {},
   "source": [
    "# Fundamentals of Data Analytics at GMIT\n",
    "\n",
    "Solutions to the Tasks Assessment. Author is *Radek Wojtczak* G00352936."
   ]
  },
  {
   "cell_type": "markdown",
   "metadata": {},
   "source": [
    "## Task 1\n",
    "\n",
    "**Task explanation:** \n",
    ">Write a Python function called counts that takes a list as input and returns a dictionary of unique items in the list as keys and the number of times each item appears as values. So, the input ['A', 'A', 'B', 'C', 'A'] should have output {'A': 3, 'B': 1, 'C': 1} . Your code should not depend on any module from the standard library or otherwise. You should research the task first and include a description with references of your algorithm in the notebook."
   ]
  },
  {
   "cell_type": "code",
   "execution_count": 1,
   "metadata": {},
   "outputs": [],
   "source": [
    "# Creating a list\n",
    "lst = [\"a\", \"b\", \"a\", \"c\", \"a\", \"b\"]"
   ]
  },
  {
   "cell_type": "code",
   "execution_count": 2,
   "metadata": {},
   "outputs": [],
   "source": [
    "# function to count characters\n",
    "def freq_count(lst):\n",
    "    freq = {}\n",
    "    for item in lst:\n",
    "        if item in freq:\n",
    "            freq[item] += 1\n",
    "        else:\n",
    "            freq[item] = 1\n",
    "\n",
    "    print(freq)"
   ]
  },
  {
   "cell_type": "code",
   "execution_count": 3,
   "metadata": {
    "scrolled": true
   },
   "outputs": [
    {
     "name": "stdout",
     "output_type": "stream",
     "text": [
      "{'a': 3, 'b': 2, 'c': 1}\n"
     ]
    }
   ],
   "source": [
    " # calling function\n",
    "freq_count(lst)"
   ]
  },
  {
   "cell_type": "markdown",
   "metadata": {},
   "source": [
    "## Task 1 - Extra\n",
    "\n",
    "My way to up the challenge. "
   ]
  },
  {
   "cell_type": "code",
   "execution_count": 4,
   "metadata": {},
   "outputs": [],
   "source": [
    "# importing libaries to show bar plot\n",
    "import pandas as pd\n",
    "import matplotlib.pyplot as plt"
   ]
  },
  {
   "cell_type": "code",
   "execution_count": 5,
   "metadata": {},
   "outputs": [],
   "source": [
    "# function that split our quote\n",
    "def split(quote): \n",
    "    return list(quote)"
   ]
  },
  {
   "cell_type": "code",
   "execution_count": 6,
   "metadata": {
    "scrolled": true
   },
   "outputs": [
    {
     "name": "stdout",
     "output_type": "stream",
     "text": [
      "Once you eliminate the impossible, whatever remains, no matter how improbable, must be the truth.\n"
     ]
    }
   ],
   "source": [
    "# defining variable \"quote\" and printing it\n",
    "quote = 'Once you eliminate the impossible, whatever remains, no matter how improbable, must be the truth.'\n",
    "print (quote)"
   ]
  },
  {
   "cell_type": "code",
   "execution_count": 7,
   "metadata": {},
   "outputs": [
    {
     "name": "stdout",
     "output_type": "stream",
     "text": [
      "['o', 'n', 'c', 'e', 'y', 'o', 'u', 'e', 'l', 'i', 'm', 'i', 'n', 'a', 't', 'e', 't', 'h', 'e', 'i', 'm', 'p', 'o', 's', 's', 'i', 'b', 'l', 'e', 'w', 'h', 'a', 't', 'e', 'v', 'e', 'r', 'r', 'e', 'm', 'a', 'i', 'n', 's', 'n', 'o', 'm', 'a', 't', 't', 'e', 'r', 'h', 'o', 'w', 'i', 'm', 'p', 'r', 'o', 'b', 'a', 'b', 'l', 'e', 'm', 'u', 's', 't', 'b', 'e', 't', 'h', 'e', 't', 'r', 'u', 't', 'h']\n"
     ]
    }
   ],
   "source": [
    "# creating list of lowercase characters and excluding \".\" and \",\" from our quote\n",
    "lst = split(quote.lower().replace(\" \", \"\").replace(\",\",\"\").replace(\".\",\"\"))\n",
    "print (lst)"
   ]
  },
  {
   "cell_type": "code",
   "execution_count": 8,
   "metadata": {
    "scrolled": true
   },
   "outputs": [
    {
     "name": "stdout",
     "output_type": "stream",
     "text": [
      "{'o': 6, 'n': 4, 'c': 1, 'e': 12, 'y': 1, 'u': 3, 'l': 3, 'i': 6, 'm': 6, 'a': 5, 't': 9, 'h': 5, 'p': 2, 's': 4, 'b': 4, 'w': 2, 'v': 1, 'r': 5}\n"
     ]
    }
   ],
   "source": [
    "# calling our function from Task 1 with redefine lst\n",
    "freq_count(lst)"
   ]
  },
  {
   "cell_type": "code",
   "execution_count": 9,
   "metadata": {},
   "outputs": [
    {
     "data": {
      "image/png": "[encoded data removed]",
      "text/plain": [
       "<Figure size 432x288 with 1 Axes>"
      ]
     },
     "metadata": {
      "needs_background": "light"
     },
     "output_type": "display_data"
    }
   ],
   "source": [
    "# ploting bar plot of characters frequencies \n",
    "df = pd.DataFrame({'freq': lst})\n",
    "df.groupby('freq', as_index=False).size().plot(kind='bar')\n",
    "plt.show()"
   ]
  },
  {
   "cell_type": "markdown",
   "metadata": {},
   "source": [
    "**References:**<br/>\n",
    "\n",
    "- https://stackoverflow.com/questions/55897076/creating-a-plot-of-frequency-of-items-in-a-list-in-python\n",
    "\n",
    "- https://www.geeksforgeeks.org/python-split-string-into-list-of-characters/\n",
    "\n",
    "- https://stackoverflow.com/questions/8270092/remove-all-whitespace-in-a-string\n",
    "\n",
    "- https://www.programiz.com/python-programming/methods/string/lower\n",
    "\n",
    "- https://www.geeksforgeeks.org/python-split-string-into-list-of-characters/\n",
    "\n",
    "- https://discuss.codecademy.com/t/solution-sharing/462893\n",
    "\n",
    "- https://medium.com/@jeremiahlutes/frequency-tables-in-python-fcd53c0f8553\n",
    "\n",
    "- https://www.kite.com/python/answers/how-to-count-item-frequency-in-python\n",
    "\n",
    "- https://www.w3resource.com/python-exercises/list/python-data-type-list-exercise-30.php\n",
    "\n",
    "- https://www.geeksforgeeks.org/counting-the-frequencies-in-a-list-using-dictionary-in-python/\n",
    "\n",
    "- https://programminghistorian.org/en/lessons/counting-frequencies\n",
    "\n",
    "- https://www.google.ie/amp/s/www.geeksforgeeks.org/python-count-occurrences-element-list/amp/?espv=1\n",
    "\n",
    "- https://stackoverflow.com/questions/39851957/python-item-count-in-a-for-loop"
   ]
  },
  {
   "cell_type": "markdown",
   "metadata": {},
   "source": [
    "## Task 2\n",
    "\n",
    "**Task explanation:**\n",
    ">Write a Python function called dicerolls that simulates\n",
    "rolling dice. Your function should take two parameters: the number of dice k and\n",
    "the number of times to roll the dice n. The function should simulate randomly\n",
    "rolling k dice n times, keeping track of each total face value. It should then return\n",
    "a dictionary with the number of times each possible total face value occurred. So,\n",
    "calling the function as diceroll(k=2, n=1000) should return a dictionary like:\n",
    "{2:19,3:50,4:82,5:112,6:135,7:174,8:133,9:114,10:75,11:70,12:36}\n",
    "You can use any module from the Python standard library you wish and you should\n",
    "include a description with references of your algorithm in the notebook."
   ]
  },
  {
   "cell_type": "code",
   "execution_count": 10,
   "metadata": {},
   "outputs": [],
   "source": [
    "# importing numpy package\n",
    "import numpy as np"
   ]
  },
  {
   "cell_type": "code",
   "execution_count": 11,
   "metadata": {},
   "outputs": [],
   "source": [
    "# creating empty lst to delet Task 1 results\n",
    "lst = []"
   ]
  },
  {
   "cell_type": "code",
   "execution_count": 12,
   "metadata": {},
   "outputs": [],
   "source": [
    "# creating function where k is number of dices and n is number of times we roll the dices\n",
    "def dice_rolls(k, n):\n",
    "# creating variable to store sum of dices and seting it to 0\n",
    "    dices = 0\n",
    "# creating loop to repeat roll n times\n",
    "    for i in range(n):\n",
    "        dices = sum(np.random.randint(1, 7, (k)))  \n",
    "        lst.append(dices) \n",
    "    print(lst)"
   ]
  },
  {
   "cell_type": "code",
   "execution_count": 13,
   "metadata": {},
   "outputs": [
    {
     "name": "stdout",
     "output_type": "stream",
     "text": [
      "[3, 10, 7, 3, 8, 7, 4, 9, 6, 7, 7, 5, 5, 9, 7, 7, 11, 6, 9, 7, 7, 8, 3, 4, 2, 7, 7, 8, 2, 6, 6, 10, 10, 7, 5, 9, 9, 12, 6, 9, 5, 7, 9, 8, 12, 3, 7, 4, 6, 6, 8, 6, 8, 11, 10, 10, 9, 3, 7, 2, 8, 9, 4, 5, 3, 3, 10, 6, 2, 7, 8, 10, 4, 7, 6, 4, 6, 7, 9, 11, 6, 11, 6, 8, 8, 6, 8, 6, 3, 8, 6, 5, 11, 8, 6, 4, 12, 5, 5, 8, 3, 2, 8, 5, 6, 12, 12, 5, 7, 6, 3, 10, 7, 10, 9, 7, 11, 10, 12, 6, 11, 8, 7, 9, 6, 6, 6, 9, 5, 8, 5, 6, 9, 6, 11, 9, 5, 10, 3, 4, 9, 8, 7, 7, 6, 8, 8, 5, 9, 7, 9, 9, 7, 9, 6, 5, 4, 2, 4, 8, 5, 7, 5, 6, 4, 6, 8, 5, 5, 5, 10, 7, 5, 8, 6, 6, 4, 6, 8, 4, 7, 5, 11, 7, 5, 4, 6, 4, 7, 10, 8, 11, 3, 3, 6, 6, 5, 5, 12, 3, 5, 5, 5, 6, 7, 2, 7, 10, 5, 3, 7, 5, 6, 3, 2, 9, 8, 7, 7, 7, 6, 5, 7, 8, 10, 12, 4, 8, 6, 9, 4, 5, 10, 6, 4, 3, 8, 3, 6, 7, 3, 11, 7, 8, 7, 8, 6, 5, 5, 5, 9, 11, 10, 6, 2, 6, 2, 10, 7, 10, 5, 6, 8, 3, 7, 3, 8, 8, 2, 5, 4, 6, 7, 6, 5, 6, 6, 9, 9, 9, 4, 2, 8, 4, 8, 7, 8, 3, 7, 6, 5, 8, 8, 5, 4, 7, 4, 7, 8, 8, 7, 4, 5, 8, 12, 5, 10, 6, 8, 7, 8, 8, 10, 8, 9, 6, 9, 8, 8, 6, 9, 5, 7, 6, 6, 9, 6, 9, 5, 6, 8, 5, 8, 9, 2, 7, 4, 7, 3, 10, 5, 4, 10, 11, 8, 6, 7, 7, 4, 10, 7, 5, 12, 4, 7, 6, 6, 6, 7, 5, 9, 11, 7, 8, 3, 8, 11, 9, 12, 7, 6, 5, 11, 3, 6, 10, 4, 8, 8, 8, 5, 4, 9, 3, 9, 7, 4, 11, 4, 8, 8, 5, 9, 6, 11, 11, 9, 5, 6, 11, 4, 8, 7, 5, 8, 9, 10, 7, 5, 10, 9, 10, 5, 7, 12, 4, 4, 4, 8, 8, 7, 7, 8, 4, 6, 12, 7, 5, 7, 7, 3, 6, 10, 8, 7, 9, 9, 5, 7, 8, 9, 9, 8, 5, 10, 3, 7, 6, 10, 7, 9, 10, 4, 6, 8, 5, 5, 6, 4, 9, 11, 10, 9, 7, 8, 3, 3, 12, 8, 10, 8, 6, 6, 8, 7, 7, 5, 8, 11, 8, 8, 9, 10, 6, 6, 8, 9, 5, 9, 6, 7, 4, 9, 9, 9, 9, 9, 4, 5, 12, 8, 12, 12, 4, 7, 3, 7, 3, 5, 4, 8, 7, 3, 7, 6, 11, 10, 7, 9, 3, 8, 4, 7, 11, 8, 10, 8, 6, 9, 8, 9, 8, 6, 4, 6, 5, 7, 7, 8, 5, 6, 7, 10, 9, 9, 8, 9, 9, 6, 6, 5, 10, 8, 8, 7, 6, 7, 6, 8, 11, 6, 9, 4, 6, 3, 8, 11, 8, 7, 6, 2, 9, 6, 5, 9, 4, 8, 4, 11, 10, 8, 9, 6, 10, 6, 10, 6, 8, 10, 8, 6, 11, 6, 4, 6, 10, 10, 8, 3, 5, 10, 4, 4, 8, 11, 7, 3, 7, 6, 8, 12, 6, 7, 10, 6, 11, 8, 6, 5, 9, 7, 3, 4, 8, 9, 12, 4, 9, 6, 8, 9, 8, 8, 5, 5, 5, 5, 11, 11, 10, 7, 9, 7, 6, 7, 6, 3, 5, 5, 9, 9, 8, 6, 9, 9, 5, 6, 8, 7, 3, 3, 4, 10, 5, 7, 8, 8, 7, 5, 6, 9, 2, 7, 9, 6, 8, 8, 7, 4, 7, 5, 3, 4, 8, 8, 3, 9, 8, 3, 4, 9, 4, 6, 7, 12, 6, 9, 8, 9, 5, 6, 6, 8, 11, 6, 10, 7, 8, 4, 10, 11, 7, 4, 11, 8, 7, 8, 10, 8, 8, 9, 8, 7, 11, 6, 9, 3, 7, 7, 6, 12, 7, 3, 10, 11, 11, 7, 8, 3, 7, 7, 5, 9, 9, 7, 4, 6, 8, 5, 11, 8, 7, 8, 7, 10, 7, 2, 7, 9, 8, 6, 6, 9, 8, 3, 5, 8, 2, 7, 3, 10, 5, 7, 5, 11, 9, 4, 10, 6, 6, 10, 8, 11, 8, 4, 4, 9, 7, 9, 10, 8, 9, 6, 7, 3, 10, 7, 6, 12, 7, 8, 7, 9, 12, 7, 7, 4, 5, 4, 9, 11, 5, 5, 9, 4, 8, 7, 11, 9, 6, 9, 7, 9, 9, 9, 11, 7, 6, 7, 10, 11, 12, 8, 9, 10, 7, 6, 6, 5, 10, 9, 7, 5, 6, 11, 7, 11, 11, 5, 4, 6, 6, 5, 9, 10, 4, 8, 6, 5, 7, 6, 10, 3, 6, 6, 7, 7, 7, 6, 6, 7, 10, 11, 6, 8, 6, 10, 10, 5, 8, 4, 5, 4, 11, 4, 3, 9, 7, 5, 9, 8, 8, 10, 8, 11, 4, 6, 5, 6, 4, 12, 7, 9, 4, 9, 8, 10, 9, 11, 8, 11, 10, 7, 8, 10, 4, 12, 10, 9, 6, 6, 5, 8, 7, 5, 4, 4, 8, 6, 9, 2, 9, 7, 5, 4, 4, 8, 4, 5, 7, 10, 9, 4, 9, 7, 6, 7, 8, 5, 8, 6, 7, 6, 7, 6, 8, 4, 5, 2, 5, 7, 6, 7, 7, 9, 6, 3, 7, 6, 8, 9, 7, 7, 8, 5, 5, 7, 3, 3, 7, 9, 4, 10, 8, 10, 7, 7, 6, 6, 7, 11, 6, 9, 4, 7, 8, 9, 5, 6, 11]\n"
     ]
    }
   ],
   "source": [
    "# calling our function to see results\n",
    "dice_rolls(2, 1000)"
   ]
  },
  {
   "cell_type": "code",
   "execution_count": 14,
   "metadata": {},
   "outputs": [
    {
     "name": "stdout",
     "output_type": "stream",
     "text": [
      "{2: 19, 3: 55, 4: 85, 5: 108, 6: 150, 7: 160, 8: 150, 9: 117, 10: 75, 11: 55, 12: 26}\n"
     ]
    }
   ],
   "source": [
    "# calling frequencies function from Task one, and applying sorted function\n",
    "freq_count(sorted(lst))"
   ]
  },
  {
   "cell_type": "code",
   "execution_count": 15,
   "metadata": {},
   "outputs": [
    {
     "data": {
      "image/png": "[encoded data removed]",
      "text/plain": [
       "<Figure size 432x288 with 1 Axes>"
      ]
     },
     "metadata": {
      "needs_background": "light"
     },
     "output_type": "display_data"
    }
   ],
   "source": [
    "# ploting bar plot of characters frequencies \n",
    "df = pd.DataFrame({'freq': lst})\n",
    "df.groupby('freq', as_index=False).size().plot(kind='bar')\n",
    "plt.show()"
   ]
  },
  {
   "cell_type": "markdown",
   "metadata": {},
   "source": [
    "**References:**<br>\n",
    "\n",
    "- https://livebook.manning.com/book/data-science-bookcamp/chapter-3/v-4/10\n",
    "\n",
    "- https://www.pd4cs.org/rolling-a-die/\n",
    "\n",
    "- https://medium.com/@soumen.atta/simulating-randomness-using-pythons-numpy-random-module-ad96023daee7\n",
    "\n",
    "- https://www.learnpython.org/en/Loops\n",
    "\n",
    "- https://www.earthdatascience.org/courses/intro-to-earth-data-science/write-efficient-python-code/functions-modular-code/write-functions-with-multiple-and-optional-parameters-in-python/\n",
    "\n",
    "- https://www.codegrepper.com/code-examples/python/dice+rolling+simulator+python\n",
    "\n",
    "- https://docs.google.com/presentation/d/1LKHuo9JjVOpzIfnF2P3hWM_IWMsHEHkcNvxj-_3RJIw/htmlpresent\n",
    "\n",
    "- http://econowmics.com/python-law-of-large-numbers-dice-roll/\n",
    "\n",
    "- http://web.cs.iastate.edu/~adisak/datascience/Python%20book/chapter18/\n",
    "\n",
    "- https://www3.nd.edu/~pbui/teaching/cse.10001.sp20/lab03.html"
   ]
  },
  {
   "cell_type": "markdown",
   "metadata": {},
   "source": [
    "## Task 3\n",
    "\n",
    "**Task explanation:**\n",
    ">The numpy.random.binomial function can be used to\n",
    "simulate flipping a coin with a 50/50 chance of heads or tails. Interestingly, if a\n",
    "coin is flipped many times then the number of heads is well approximated by a\n",
    "bell-shaped curve. For instance, if we flip a coin 100 times in a row the chance of\n",
    "getting 50 heads is relatively high, the chances of getting 0 or 100 heads is relatively\n",
    "low, and the chances of getting any other number of heads decreases as you move\n",
    "away from 50 in either direction towards 0 or 100. Write some python code that\n",
    "simulates flipping a coin 100 times. Then run this code 1,000 times, keeping track\n",
    "of the number of heads in each of the 1,000 simulations. Select an appropriate\n",
    "plot to depict the resulting list of 1,000 numbers, showing that it roughly follows\n",
    "a bell-shaped curve. You should explain your work in a Markdown cell above the code.\n"
   ]
  },
  {
   "cell_type": "markdown",
   "metadata": {},
   "source": [
    "**The binomial distribution** is a common discrete distribution used in statistics, as opposed to a continuous distribution, such as the normal distribution. This is because the binomial distribution only counts two states, typically represented as 1 (for a success) or 0 (for a failure) given a number of trials in the data. The binomial distribution, therefore, represents the probability for x successes in n trials, given a success probability p for each trial.\n",
    "\n",
    "The ideas behind flipping a coin are important in computing. Computers rely on bits - a bit is a variable that can take on one of two values, one or zero. Flipping a coin results in one of two outcomes, heads or tails. What could be equivalent to 1 and 0."
   ]
  },
  {
   "cell_type": "markdown",
   "metadata": {},
   "source": [
    "**Analyzing Binomial Distribution**\n",
    "The expected value, or mean, of a binomial distribution, is calculated by multiplying the number of trials by the probability of successes. For example, the expected value of the number of heads in 100 trials of head and tales is 50, or (100 * 0.5). \n",
    "\n",
    "The mean of the binomial distribution is np, and the variance of the binomial distribution is np (1 − p). When p = 0.5, the distribution is symmetric around the mean. When p > 0.5, the distribution is skewed to the left. When p < 0.5, the distribution is skewed to the right.\n",
    "\n",
    "Analyzing Binomial Distribution\n",
    "The expected value, or mean, of a binomial distribution, is calculated by multiplying the number of trials by the probability of successes. For example, the expected value of the number of heads in 100 trials of head and tales is 50, or (100 * 0.5). Another common example of the binomial distribution is by estimating the chances of success for a free-throw shooter in basketball where 1 = a basket is made and 0 = a miss.\n",
    "\n",
    "The mean of the binomial distribution is np, and the variance of the binomial distribution is np (1 − p). When p = 0.5, the distribution is symmetric around the mean. When p > 0.5, the distribution is skewed to the left. When p < 0.5, the distribution is skewed to the right.\n",
    "\n",
    "The binomial distribution is the sum of a series of multiple independent and identically distributed Bernoulli trials. In a Bernoulli trial, the experiment is said to be random and can only have two possible outcomes: success or failure.\n",
    "\n",
    "For example, flipping a coin is considered to be a Bernoulli trial; each trial can only take one of two values (heads or tails), each success has the same probability (the probability of flipping a head is 0.5), and the results of one trial do not influence the results of another. The Bernoulli distribution is a special case of the binomial distribution where the number of trials n = 1.\n",
    "\n",
    "\n",
    "Flipping a coin is considered to be a Bernoulli trial; each trial can only take one of two values (heads or tails), each success has the same probability (the probability of flipping a head is 0.5), and the results of one trial do not influence the results of another. The Bernoulli distribution is a special case of the binomial distribution where the number of trials n = 1."
   ]
  },
  {
   "cell_type": "markdown",
   "metadata": {},
   "source": [
    "**Flipping a coin once:**"
   ]
  },
  {
   "cell_type": "code",
   "execution_count": 16,
   "metadata": {},
   "outputs": [
    {
     "name": "stdout",
     "output_type": "stream",
     "text": [
      "It's a a head\n"
     ]
    }
   ],
   "source": [
    "# Number of trials (n), probability of a head (P), size number of experiments, deaufult 1\n",
    "flipp = np.random.binomial(1, 0.5)\n",
    "if flipp == 1:\n",
    "    print(\"It's a a head\")\n",
    "else:\n",
    "    print(\"It's a tail\")"
   ]
  },
  {
   "cell_type": "markdown",
   "metadata": {},
   "source": [
    "**Flipping a coin ten times:**"
   ]
  },
  {
   "cell_type": "code",
   "execution_count": 18,
   "metadata": {},
   "outputs": [
    {
     "name": "stdout",
     "output_type": "stream",
     "text": [
      "We got 5 heads.\n"
     ]
    }
   ],
   "source": [
    "flipp = np.random.binomial(10, 0.5)\n",
    "print(\"We got\", flipp, \"heads.\")"
   ]
  },
  {
   "cell_type": "markdown",
   "metadata": {},
   "source": [
    "**Flipping a coin 100 times experiment:**"
   ]
  },
  {
   "cell_type": "code",
   "execution_count": 31,
   "metadata": {},
   "outputs": [
    {
     "name": "stdout",
     "output_type": "stream",
     "text": [
      "[0, 1, 1, 1, 0, 1, 0, 0, 1, 0, 1, 0, 1, 1, 1, 0, 1, 0, 1, 1, 1, 0, 1, 1, 0, 1, 1, 1, 1, 0, 1, 0, 0, 1, 0, 0, 1, 1, 1, 0, 1, 0, 0, 0, 1, 0, 0, 1, 1, 0, 1, 1, 1, 1, 0, 0, 0, 1, 1, 1, 0, 1, 0, 0, 0, 0, 0, 0, 0, 0, 1, 1, 1, 1, 0, 1, 1, 0, 0, 1, 1, 1, 0, 1, 1, 0, 1, 1, 1, 0, 1, 0, 0, 1, 1, 0, 0, 1, 0, 1]\n"
     ]
    }
   ],
   "source": [
    "heads = []\n",
    "\n",
    "def flipping(n):\n",
    "# creating variable to store sum of dices and seting it to 0\n",
    "    dices = 0\n",
    "# creating loop to repeat roll n times\n",
    "    for i in range(n):\n",
    "        flipp = np.random.binomial(1, 0.5)  \n",
    "        heads.append(flipp) \n",
    "    print(heads)\n",
    "flipping(100)"
   ]
  },
  {
   "cell_type": "code",
   "execution_count": 36,
   "metadata": {},
   "outputs": [
    {
     "data": {
      "image/png": "[encoded data removed]",
      "text/plain": [
       "<Figure size 432x288 with 1 Axes>"
      ]
     },
     "metadata": {
      "needs_background": "light"
     },
     "output_type": "display_data"
    }
   ],
   "source": [
    "df = pd.DataFrame({'flipping': heads})\n",
    "df.groupby('flipping', as_index=False).size().plot(kind='bar')\n",
    "plt.show()"
   ]
  }
 ],
 "metadata": {
  "kernelspec": {
   "display_name": "Python 3",
   "language": "python",
   "name": "python3"
  },
  "language_info": {
   "codemirror_mode": {
    "name": "ipython",
    "version": 3
   },
   "file_extension": ".py",
   "mimetype": "text/x-python",
   "name": "python",
   "nbconvert_exporter": "python",
   "pygments_lexer": "ipython3",
   "version": "3.8.3"
  }
 },
 "nbformat": 4,
 "nbformat_minor": 4
}
