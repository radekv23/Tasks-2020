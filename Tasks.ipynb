{
 "cells": [
  {
   "cell_type": "markdown",
   "metadata": {},
   "source": [
    "# Fundamentals of Data Analytics at GMIT\n",
    "\n",
    "Solutions to the Tasks Assessment. Author is *Radek Wojtczak* G00352936."
   ]
  },
  {
   "cell_type": "markdown",
   "metadata": {},
   "source": [
    "## Task 1\n",
    "\n",
    "**Task explanation:** \n",
    ">Write a Python function called counts that takes a list as input and returns a dictionary of unique items in the list as keys and the number of times each item appears as values. So, the input ['A', 'A', 'B', 'C', 'A'] should have output {'A': 3, 'B': 1, 'C': 1} . Your code should not depend on any module from the standard library or otherwise. You should research the task first and include a description with references of your algorithm in the notebook."
   ]
  },
  {
   "cell_type": "code",
   "execution_count": 1,
   "metadata": {},
   "outputs": [],
   "source": [
    "# Creating a list\n",
    "lst = [\"a\", \"b\", \"a\", \"c\", \"a\", \"b\"]"
   ]
  },
  {
   "cell_type": "code",
   "execution_count": 2,
   "metadata": {},
   "outputs": [],
   "source": [
    "# function to count characters\n",
    "def freq_count(lst):\n",
    "    freq = {}\n",
    "    for item in lst:\n",
    "        if item in freq:\n",
    "            freq[item] += 1\n",
    "        else:\n",
    "            freq[item] = 1\n",
    "\n",
    "    print(freq)"
   ]
  },
  {
   "cell_type": "code",
   "execution_count": 3,
   "metadata": {
    "scrolled": true
   },
   "outputs": [
    {
     "name": "stdout",
     "output_type": "stream",
     "text": [
      "{'a': 3, 'b': 2, 'c': 1}\n"
     ]
    }
   ],
   "source": [
    " # calling function\n",
    "freq_count(lst)"
   ]
  },
  {
   "cell_type": "markdown",
   "metadata": {},
   "source": [
    "## Task 1 - Extra\n",
    "\n",
    "My way to up the challenge. "
   ]
  },
  {
   "cell_type": "code",
   "execution_count": 4,
   "metadata": {},
   "outputs": [],
   "source": [
    "# importing libaries to show bar plot\n",
    "import pandas as pd\n",
    "import matplotlib.pyplot as plt"
   ]
  },
  {
   "cell_type": "code",
   "execution_count": 5,
   "metadata": {},
   "outputs": [],
   "source": [
    "# function that split our quote\n",
    "def split(quote): \n",
    "    return list(quote)"
   ]
  },
  {
   "cell_type": "markdown",
   "metadata": {},
   "source": [
    "![S. Holmes](sh.jpg)"
   ]
  },
  {
   "cell_type": "code",
   "execution_count": 6,
   "metadata": {
    "scrolled": true
   },
   "outputs": [
    {
     "name": "stdout",
     "output_type": "stream",
     "text": [
      "Once you eliminate the impossible, whatever remains, no matter how improbable, must be the truth.\n"
     ]
    }
   ],
   "source": [
    "# defining variable \"quote\" and printing it\n",
    "quote = 'Once you eliminate the impossible, whatever remains, no matter how improbable, must be the truth.'\n",
    "print (quote)"
   ]
  },
  {
   "cell_type": "code",
   "execution_count": 7,
   "metadata": {},
   "outputs": [
    {
     "name": "stdout",
     "output_type": "stream",
     "text": [
      "['o', 'n', 'c', 'e', 'y', 'o', 'u', 'e', 'l', 'i', 'm', 'i', 'n', 'a', 't', 'e', 't', 'h', 'e', 'i', 'm', 'p', 'o', 's', 's', 'i', 'b', 'l', 'e', 'w', 'h', 'a', 't', 'e', 'v', 'e', 'r', 'r', 'e', 'm', 'a', 'i', 'n', 's', 'n', 'o', 'm', 'a', 't', 't', 'e', 'r', 'h', 'o', 'w', 'i', 'm', 'p', 'r', 'o', 'b', 'a', 'b', 'l', 'e', 'm', 'u', 's', 't', 'b', 'e', 't', 'h', 'e', 't', 'r', 'u', 't', 'h']\n"
     ]
    }
   ],
   "source": [
    "# creating list of lowercase characters and excluding \".\" and \",\" from our quote\n",
    "lst = split(quote.lower().replace(\" \", \"\").replace(\",\",\"\").replace(\".\",\"\"))\n",
    "print (lst)"
   ]
  },
  {
   "cell_type": "code",
   "execution_count": 8,
   "metadata": {
    "scrolled": true
   },
   "outputs": [
    {
     "name": "stdout",
     "output_type": "stream",
     "text": [
      "{'o': 6, 'n': 4, 'c': 1, 'e': 12, 'y': 1, 'u': 3, 'l': 3, 'i': 6, 'm': 6, 'a': 5, 't': 9, 'h': 5, 'p': 2, 's': 4, 'b': 4, 'w': 2, 'v': 1, 'r': 5}\n"
     ]
    }
   ],
   "source": [
    "# calling our function from Task 1 with redefine lst\n",
    "freq_count(lst)"
   ]
  },
  {
   "cell_type": "code",
   "execution_count": 9,
   "metadata": {},
   "outputs": [
    {
     "data": {
      "image/png": "[encoded data removed]",
      "text/plain": [
       "<Figure size 432x288 with 1 Axes>"
      ]
     },
     "metadata": {
      "needs_background": "light"
     },
     "output_type": "display_data"
    }
   ],
   "source": [
    "# ploting bar plot of characters frequencies \n",
    "df = pd.DataFrame({'freq': lst})\n",
    "df.groupby('freq', as_index=False).size().plot(kind='bar')\n",
    "plt.show()"
   ]
  },
  {
   "cell_type": "markdown",
   "metadata": {},
   "source": [
    "**References:**<br/>\n",
    "\n",
    "- https://stackoverflow.com/questions/55897076/creating-a-plot-of-frequency-of-items-in-a-list-in-python\n",
    "\n",
    "- https://www.geeksforgeeks.org/python-split-string-into-list-of-characters/\n",
    "\n",
    "- https://stackoverflow.com/questions/8270092/remove-all-whitespace-in-a-string\n",
    "\n",
    "- https://www.programiz.com/python-programming/methods/string/lower\n",
    "\n",
    "- https://www.geeksforgeeks.org/python-split-string-into-list-of-characters/\n",
    "\n",
    "- https://discuss.codecademy.com/t/solution-sharing/462893\n",
    "\n",
    "- https://medium.com/@jeremiahlutes/frequency-tables-in-python-fcd53c0f8553\n",
    "\n",
    "- https://www.kite.com/python/answers/how-to-count-item-frequency-in-python\n",
    "\n",
    "- https://www.w3resource.com/python-exercises/list/python-data-type-list-exercise-30.php\n",
    "\n",
    "- https://www.geeksforgeeks.org/counting-the-frequencies-in-a-list-using-dictionary-in-python/\n",
    "\n",
    "- https://programminghistorian.org/en/lessons/counting-frequencies\n",
    "\n",
    "- https://www.google.ie/amp/s/www.geeksforgeeks.org/python-count-occurrences-element-list/amp/?espv=1\n",
    "\n",
    "- https://stackoverflow.com/questions/39851957/python-item-count-in-a-for-loop"
   ]
  },
  {
   "cell_type": "markdown",
   "metadata": {},
   "source": [
    "## Task 2\n",
    "\n",
    "**Task explanation:**\n",
    ">Write a Python function called dicerolls that simulates\n",
    "rolling dice. Your function should take two parameters: the number of dice k and\n",
    "the number of times to roll the dice n. The function should simulate randomly\n",
    "rolling k dice n times, keeping track of each total face value. It should then return\n",
    "a dictionary with the number of times each possible total face value occurred. So,\n",
    "calling the function as diceroll(k=2, n=1000) should return a dictionary like:\n",
    "{2:19,3:50,4:82,5:112,6:135,7:174,8:133,9:114,10:75,11:70,12:36}\n",
    "You can use any module from the Python standard library you wish and you should\n",
    "include a description with references of your algorithm in the notebook."
   ]
  },
  {
   "cell_type": "code",
   "execution_count": 10,
   "metadata": {},
   "outputs": [],
   "source": [
    "# importing numpy package\n",
    "import numpy as np"
   ]
  },
  {
   "cell_type": "code",
   "execution_count": 11,
   "metadata": {},
   "outputs": [],
   "source": [
    "# creating empty lst to delet Task 1 results\n",
    "lst = []"
   ]
  },
  {
   "cell_type": "code",
   "execution_count": 12,
   "metadata": {},
   "outputs": [],
   "source": [
    "# creating function where k is number of dices and n is number of times we roll the dices\n",
    "def dice_rolls(k, n):\n",
    "    for i in range(n):            \n",
    "        lst.append(np.random.randint(1, 7)*k)\n",
    "    print(lst)"
   ]
  },
  {
   "cell_type": "code",
   "execution_count": 13,
   "metadata": {},
   "outputs": [
    {
     "name": "stdout",
     "output_type": "stream",
     "text": [
      "[6, 2, 2, 12, 12, 2, 8, 4, 10, 8, 8, 8, 4, 12, 6, 6, 12, 8, 12, 4, 10, 8, 10, 4, 6, 8, 2, 4, 6, 10, 4, 6, 12, 8, 12, 8, 12, 10, 2, 12, 10, 12, 6, 4, 12, 6, 10, 2, 4, 12, 4, 4, 6, 8, 10, 2, 12, 10, 10, 8, 8, 6, 4, 4, 2, 6, 12, 6, 10, 12, 4, 8, 8, 4, 4, 10, 2, 4, 6, 2, 4, 10, 2, 6, 6, 12, 12, 10, 12, 4, 6, 8, 10, 6, 2, 2, 2, 6, 4, 12, 6, 10, 8, 6, 6, 4, 6, 10, 6, 6, 6, 2, 10, 8, 8, 4, 12, 12, 6, 10, 2, 10, 8, 10, 6, 12, 12, 10, 10, 4, 10, 2, 12, 12, 10, 10, 4, 4, 6, 10, 4, 2, 4, 2, 10, 2, 10, 8, 8, 8, 8, 2, 10, 8, 4, 10, 6, 8, 12, 6, 12, 6, 2, 2, 6, 4, 2, 8, 10, 4, 10, 12, 10, 4, 2, 6, 2, 8, 12, 6, 6, 4, 2, 2, 2, 6, 8, 2, 2, 12, 6, 12, 12, 6, 10, 8, 12, 4, 4, 2, 10, 10, 12, 12, 8, 12, 12, 2, 12, 2, 6, 8, 12, 8, 4, 2, 4, 2, 8, 8, 8, 8, 10, 4, 2, 6, 2, 2, 6, 8, 6, 6, 12, 8, 2, 6, 4, 8, 8, 6, 8, 4, 4, 12, 12, 12, 12, 6, 6, 2, 6, 10, 8, 6, 10, 4, 8, 6, 8, 2, 2, 10, 12, 8, 10, 8, 4, 2, 10, 10, 8, 6, 10, 6, 2, 12, 8, 10, 4, 6, 10, 6, 4, 12, 12, 6, 10, 10, 10, 4, 6, 4, 2, 10, 2, 12, 8, 8, 10, 8, 2, 6, 10, 2, 4, 8, 2, 12, 6, 4, 10, 4, 8, 10, 6, 6, 2, 12, 6, 6, 6, 4, 8, 8, 2, 8, 10, 8, 8, 6, 2, 6, 10, 4, 8, 8, 4, 12, 12, 4, 8, 12, 12, 8, 10, 12, 12, 4, 10, 4, 4, 6, 2, 10, 10, 4, 8, 8, 6, 2, 12, 2, 8, 4, 10, 2, 12, 4, 4, 8, 12, 12, 10, 10, 8, 10, 10, 4, 2, 4, 2, 4, 4, 10, 10, 4, 8, 2, 10, 6, 4, 6, 6, 12, 12, 2, 12, 12, 10, 6, 8, 8, 6, 2, 8, 12, 10, 8, 4, 10, 6, 6, 4, 2, 12, 6, 2, 6, 10, 6, 2, 2, 4, 4, 6, 10, 12, 2, 6, 8, 12, 2, 2, 2, 10, 2, 2, 12, 12, 10, 2, 10, 12, 12, 10, 4, 8, 6, 6, 2, 10, 2, 8, 6, 10, 4, 6, 2, 4, 4, 8, 6, 12, 6, 12, 10, 10, 2, 12, 6, 4, 10, 4, 10, 4, 6, 8, 6, 2, 6, 4, 12, 8, 2, 4, 8, 6, 10, 12, 8, 10, 12, 8, 4, 6, 2, 12, 12, 6, 4, 8, 2, 6, 4, 4, 10, 8, 10, 2, 8, 2, 4, 12, 4, 4, 6, 10, 8, 10, 12, 6, 12, 6, 2, 6, 4, 10, 10, 6, 6, 12, 12, 2, 2, 12, 6, 4, 10, 12, 8, 6, 10, 4, 8, 10, 6, 4, 12, 2, 2, 12, 2, 12, 12, 10, 2, 6, 12, 12, 12, 4, 10, 2, 4, 12, 2, 2, 8, 6, 2, 4, 4, 12, 4, 2, 8, 12, 4, 4, 8, 4, 8, 8, 6, 10, 8, 12, 6, 10, 2, 8, 8, 8, 6, 6, 10, 6, 2, 10, 8, 12, 12, 6, 12, 12, 2, 8, 8, 6, 2, 12, 10, 6, 2, 4, 10, 10, 10, 8, 2, 6, 10, 6, 4, 12, 6, 12, 12, 6, 10, 6, 2, 10, 6, 10, 10, 6, 8, 6, 12, 12, 6, 8, 10, 12, 6, 2, 8, 8, 6, 8, 8, 4, 2, 6, 4, 2, 6, 8, 8, 2, 10, 2, 2, 2, 2, 12, 10, 4, 8, 6, 12, 6, 4, 2, 10, 6, 8, 4, 10, 10, 4, 2, 2, 12, 12, 10, 8, 12, 10, 8, 10, 10, 8, 4, 2, 2, 12, 10, 4, 4, 4, 2, 6, 6, 12, 12, 8, 12, 12, 4, 6, 2, 4, 8, 10, 4, 10, 12, 12, 4, 4, 10, 10, 10, 2, 12, 12, 8, 12, 8, 12, 8, 2, 6, 6, 6, 2, 2, 6, 2, 8, 12, 2, 10, 2, 12, 4, 2, 6, 10, 6, 12, 12, 4, 4, 2, 12, 4, 8, 6, 2, 12, 4, 10, 2, 10, 2, 12, 6, 2, 6, 12, 6, 6, 6, 12, 2, 10, 8, 8, 10, 4, 12, 12, 12, 4, 8, 6, 8, 2, 10, 8, 10, 10, 12, 10, 8, 2, 4, 6, 12, 2, 2, 8, 4, 6, 6, 8, 10, 6, 4, 12, 6, 8, 12, 6, 10, 2, 10, 10, 4, 6, 10, 10, 6, 8, 12, 6, 4, 10, 4, 10, 4, 4, 2, 6, 8, 12, 8, 6, 4, 12, 6, 10, 4, 2, 6, 12, 2, 8, 12, 4, 4, 4, 4, 8, 12, 2, 8, 4, 12, 4, 2, 12, 8, 12, 2, 10, 10, 12, 10, 10, 2, 10, 10, 4, 2, 2, 8, 8, 10, 12, 10, 12, 4, 4, 12, 4, 4, 4, 2, 10, 2, 2, 10, 6, 10, 2, 10, 4, 12, 2, 10, 2, 8, 4, 4, 8, 4, 10, 8, 4, 6, 4, 6, 6, 10, 4, 4, 8, 6, 12, 8, 10, 12, 10, 8, 4, 10, 8, 10, 10, 2, 6, 6, 6, 10, 6, 6, 2, 4, 2, 4, 10, 10, 8, 10, 6, 4, 8, 6, 10, 2, 4, 12, 12, 6, 6, 8, 2, 2, 12, 6, 4, 2, 6, 6, 2, 12, 6, 8, 10, 10, 8, 2, 4, 6, 12, 6, 10, 6, 8, 6, 6, 8, 2, 10, 4, 6, 6, 6, 4, 10, 12, 4, 2, 6, 4, 6]\n"
     ]
    }
   ],
   "source": [
    "# calling our function to see results\n",
    "dice_rolls(2, 1000)"
   ]
  },
  {
   "cell_type": "code",
   "execution_count": 14,
   "metadata": {},
   "outputs": [
    {
     "name": "stdout",
     "output_type": "stream",
     "text": [
      "{2: 162, 4: 162, 6: 185, 8: 152, 10: 175, 12: 164}\n"
     ]
    }
   ],
   "source": [
    "# calling frequencies function from Task one, and applying sorted function\n",
    "freq_count(sorted(lst))"
   ]
  },
  {
   "cell_type": "code",
   "execution_count": 15,
   "metadata": {},
   "outputs": [
    {
     "data": {
      "image/png": "[encoded data removed]",
      "text/plain": [
       "<Figure size 432x288 with 1 Axes>"
      ]
     },
     "metadata": {
      "needs_background": "light"
     },
     "output_type": "display_data"
    }
   ],
   "source": [
    "# importing seaborn visualization package\n",
    "import seaborn as sns\n",
    "\n",
    "# Ploting histogram of our results\n",
    "sns.distplot(lst, kde = False)\n",
    "plt.title(\"Histogram of simulated dice rolls\")\n",
    "plt.show()"
   ]
  }
 ],
 "metadata": {
  "kernelspec": {
   "display_name": "Python 3",
   "language": "python",
   "name": "python3"
  },
  "language_info": {
   "codemirror_mode": {
    "name": "ipython",
    "version": 3
   },
   "file_extension": ".py",
   "mimetype": "text/x-python",
   "name": "python",
   "nbconvert_exporter": "python",
   "pygments_lexer": "ipython3",
   "version": "3.8.3"
  }
 },
 "nbformat": 4,
 "nbformat_minor": 4
}
