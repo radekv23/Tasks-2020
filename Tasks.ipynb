{
 "cells": [
  {
   "cell_type": "markdown",
   "metadata": {},
   "source": [
    "# Task 1\n"
   ]
  },
  {
   "cell_type": "code",
   "execution_count": 15,
   "metadata": {},
   "outputs": [],
   "source": [
    "lst = [\"a\", \"b\", \"a\", \"c\", \"a\", \"b\"]"
   ]
  },
  {
   "cell_type": "code",
   "execution_count": 16,
   "metadata": {},
   "outputs": [],
   "source": [
    "def freq_count(lst):\n",
    "    freq = {}\n",
    "    for item in lst:\n",
    "        if item in freq:\n",
    "            freq[item] += 1\n",
    "        else:\n",
    "            freq[item] = 1\n",
    "\n",
    "    print(freq)"
   ]
  },
  {
   "cell_type": "code",
   "execution_count": 17,
   "metadata": {
    "scrolled": true
   },
   "outputs": [
    {
     "name": "stdout",
     "output_type": "stream",
     "text": [
      "{'a': 3, 'b': 2, 'c': 1}\n"
     ]
    }
   ],
   "source": [
    "freq_count(lst)"
   ]
  },
  {
   "cell_type": "markdown",
   "metadata": {},
   "source": [
    "# Task 1 - Extra"
   ]
  },
  {
   "cell_type": "code",
   "execution_count": 4,
   "metadata": {},
   "outputs": [],
   "source": [
    "def split(quote): \n",
    "    return list(quote)"
   ]
  },
  {
   "cell_type": "code",
   "execution_count": 5,
   "metadata": {},
   "outputs": [
    {
     "name": "stdout",
     "output_type": "stream",
     "text": [
      "Once you eliminate the impossible, whatever remains, no matter how improbable, must be the truth.\n"
     ]
    }
   ],
   "source": [
    "quote = 'Once you eliminate the impossible, whatever remains, no matter how improbable, must be the truth.'\n",
    "print (quote)"
   ]
  },
  {
   "cell_type": "code",
   "execution_count": 18,
   "metadata": {},
   "outputs": [
    {
     "name": "stdout",
     "output_type": "stream",
     "text": [
      "['o', 'n', 'c', 'e', 'y', 'o', 'u', 'e', 'l', 'i', 'm', 'i', 'n', 'a', 't', 'e', 't', 'h', 'e', 'i', 'm', 'p', 'o', 's', 's', 'i', 'b', 'l', 'e', 'w', 'h', 'a', 't', 'e', 'v', 'e', 'r', 'r', 'e', 'm', 'a', 'i', 'n', 's', 'n', 'o', 'm', 'a', 't', 't', 'e', 'r', 'h', 'o', 'w', 'i', 'm', 'p', 'r', 'o', 'b', 'a', 'b', 'l', 'e', 'm', 'u', 's', 't', 'b', 'e', 't', 'h', 'e', 't', 'r', 'u', 't', 'h']\n"
     ]
    }
   ],
   "source": [
    "lst = split(quote.lower().replace(\" \", \"\").replace(\",\",\"\").replace(\".\",\"\"))\n",
    "print (lst)"
   ]
  },
  {
   "cell_type": "code",
   "execution_count": 20,
   "metadata": {},
   "outputs": [],
   "source": [
    "def freq_count(lst):\n",
    "    freq = {}\n",
    "    for item in lst:\n",
    "        if item in freq:\n",
    "            freq[item] += 1\n",
    "        else:\n",
    "            freq[item] = 1\n",
    "\n",
    "    print(freq)"
   ]
  },
  {
   "cell_type": "code",
   "execution_count": 21,
   "metadata": {
    "scrolled": true
   },
   "outputs": [
    {
     "name": "stdout",
     "output_type": "stream",
     "text": [
      "{'o': 6, 'n': 4, 'c': 1, 'e': 12, 'y': 1, 'u': 3, 'l': 3, 'i': 6, 'm': 6, 'a': 5, 't': 9, 'h': 5, 'p': 2, 's': 4, 'b': 4, 'w': 2, 'v': 1, 'r': 5}\n"
     ]
    }
   ],
   "source": [
    "freq_count(lst)"
   ]
  }
 ],
 "metadata": {
  "kernelspec": {
   "display_name": "Python 3",
   "language": "python",
   "name": "python3"
  },
  "language_info": {
   "codemirror_mode": {
    "name": "ipython",
    "version": 3
   },
   "file_extension": ".py",
   "mimetype": "text/x-python",
   "name": "python",
   "nbconvert_exporter": "python",
   "pygments_lexer": "ipython3",
   "version": "3.8.3"
  }
 },
 "nbformat": 4,
 "nbformat_minor": 4
}
